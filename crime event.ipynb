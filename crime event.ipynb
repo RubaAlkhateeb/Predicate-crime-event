{
 "cells": [
  {
   "cell_type": "code",
   "execution_count": 52,
   "metadata": {},
   "outputs": [],
   "source": [
    "import pandas as pd\n",
    "import numpy as np\n",
    "import pyreadr"
   ]
  },
  {
   "cell_type": "code",
   "execution_count": 122,
   "metadata": {
    "scrolled": true
   },
   "outputs": [],
   "source": [
    "import pyreadr\n",
    "\n",
    "Assault1 = pyreadr.read_r('all_feature_set_ASSAULT_interval_1.RData')# 9 - 12 \n",
    "Assault2 = pyreadr.read_r('all_feature_set_ASSAULT_interval_2.RData')# 12 - 15 \n",
    "Assault3 = pyreadr.read_r('all_feature_set_ASSAULT_interval_3.RData')# 15 - 18\n",
    "Assault4 = pyreadr.read_r('all_feature_set_ASSAULT_interval_4.RData')#18 - 21 \n",
    "Assault5 = pyreadr.read_r('all_feature_set_ASSAULT_interval_5.RData')#21 - 24"
   ]
  },
  {
   "cell_type": "code",
   "execution_count": 3,
   "metadata": {},
   "outputs": [],
   "source": [
    "Assault1 = Assault1[\"all_feature_set\"]\n",
    "Assault2 = Assault2[\"all_feature_set\"]\n",
    "Assault3 = Assault3[\"all_feature_set\"]\n",
    "Assault4 = Assault4[\"all_feature_set\"]\n",
    "Assault5 = Assault5[\"all_feature_set\"]"
   ]
  },
  {
   "cell_type": "code",
   "execution_count": 4,
   "metadata": {},
   "outputs": [],
   "source": [
    "# With Dynamic Features\n",
    "feature_cols = ['seasonal_density','crime_density_30','crime_density_population_30','crime_density_7',\n",
    "                'crime_density_population_7','neighbourhood_crime_density_30','neighbouhood_crime_density_population_30',\n",
    "               'Neighbourhood_7_days_density','Neighbourhood_7_days_density_population','gender_ratio',\n",
    "               'ethenic_diversity','Hispanic_percentage','black_percentage','economic_diversity','median_income',\n",
    "               'Rented_house','median_age','Shop and Service_freq','Outdoor and Recreation_freq','Home_freq',\n",
    "                'Professional and Other Places_freq','Food_freq','Travel and Transport_freq','Arts and Entertainment_freq',\n",
    "                'College and University_freq','NightLife Spot_freq','total_density','location_entropy','similarity',\n",
    "                'Entropy','user_count','observation_freq','Visitor_ratio','area_popularity']\n",
    "\n",
    "#Without Dynamic Features\n",
    "WOfeature_cols = ['seasonal_density','crime_density_30','crime_density_population_30','crime_density_7',\n",
    "                'crime_density_population_7','neighbourhood_crime_density_30','neighbouhood_crime_density_population_30',\n",
    "               'Neighbourhood_7_days_density','Neighbourhood_7_days_density_population','gender_ratio',\n",
    "               'ethenic_diversity','Hispanic_percentage','black_percentage','economic_diversity','median_income',\n",
    "               'Rented_house','median_age','Shop and Service_freq','Outdoor and Recreation_freq','Home_freq',\n",
    "                'Professional and Other Places_freq','Food_freq','Travel and Transport_freq','Arts and Entertainment_freq',\n",
    "                'College and University_freq','NightLife Spot_freq','total_density','location_entropy']\n",
    "#Change DataFrame name and features everytime, thus reducing redundant code \n",
    "Assault1[feature_cols] = np.nan_to_num(Assault1[feature_cols])\n",
    "Assault1[feature_cols] = sklearn.preprocessing.normalize(Assault1[feature_cols], norm='l1',\n",
    "                                                         axis=1, copy=True, return_norm=False)"
   ]
  },
  {
   "cell_type": "code",
   "execution_count": 5,
   "metadata": {},
   "outputs": [
    {
     "name": "stderr",
     "output_type": "stream",
     "text": [
      "C:\\Users\\noura\\Anaconda3\\lib\\site-packages\\numpy\\core\\fromnumeric.py:86: RuntimeWarning: overflow encountered in reduce\n",
      "  return ufunc.reduce(obj, axis, dtype, out, **passkwargs)\n"
     ]
    }
   ],
   "source": [
    "from imblearn.under_sampling import RandomUnderSampler\n",
    "rus = RandomUnderSampler(random_state=0)\n",
    "X = Assault1[feature_cols]\n",
    "y = Assault1['response']\n",
    "X_resampled, y_resampled = rus.fit_resample(X, y)"
   ]
  },
  {
   "cell_type": "code",
   "execution_count": null,
   "metadata": {},
   "outputs": [
    {
     "name": "stderr",
     "output_type": "stream",
     "text": [
      "C:\\Users\\noura\\Anaconda3\\lib\\site-packages\\sklearn\\linear_model\\logistic.py:432: FutureWarning: Default solver will be changed to 'lbfgs' in 0.22. Specify a solver to silence this warning.\n",
      "  FutureWarning)\n",
      "C:\\Users\\noura\\Anaconda3\\lib\\site-packages\\numpy\\core\\fromnumeric.py:86: RuntimeWarning: overflow encountered in reduce\n",
      "  return ufunc.reduce(obj, axis, dtype, out, **passkwargs)\n"
     ]
    }
   ],
   "source": [
    "from sklearn.linear_model import LogisticRegression\n",
    "from sklearn.model_selection import train_test_split\n",
    "from sklearn import metrics\n",
    "\n",
    "X_train, X_test, y_train, y_test = train_test_split(X_resampled, y_resampled,test_size=0.50)\n",
    "\n",
    "\n",
    "logreg = LogisticRegression()\n",
    "\n",
    "\n",
    "logreg.fit(X_train, y_train)\n",
    "\n",
    "\n",
    "logreg.score(X_test, y_test)\n"
   ]
  },
  {
   "cell_type": "code",
   "execution_count": null,
   "metadata": {},
   "outputs": [],
   "source": [
    "from sklearn.metrics import f1_score\n",
    "y_pred = logreg.predict(X_test)\n",
    "f1_score(y_test, y_pred)"
   ]
  },
  {
   "cell_type": "code",
   "execution_count": null,
   "metadata": {},
   "outputs": [],
   "source": [
    "import numpy as np\n",
    "from sklearn import metrics\n",
    "from sklearn.metrics import roc_auc_score\n",
    "import matplotlib.pyplot as plt\n",
    "fpr, tpr, _ = metrics.roc_curve(y_test,  y_pred)\n",
    "auc = metrics.roc_auc_score(y_test, y_pred)\n",
    "plt.plot(fpr,tpr,label=\"Traffic 9 - 12, auc=\"+str(auc))#Change label \n",
    "plt.legend(loc=4)\n",
    "plt.show()\n",
    "print(roc_auc_score(y_test, y_pred))"
   ]
  },
  {
   "cell_type": "code",
   "execution_count": null,
   "metadata": {},
   "outputs": [],
   "source": [
    "from sklearn.svm import SVC, LinearSVC\n",
    "\n",
    "linear_svc = LinearSVC()\n",
    "linear_svc.fit(X_train, y_train)\n",
    "\n",
    "Y_pred = linear_svc.predict(X_test)\n",
    "\n",
    "acc_linear_svc = linear_svc.score(X_train, y_train)\n",
    "\n",
    "print(roc_auc_score(y_test, Y_pred))"
   ]
  },
  {
   "cell_type": "code",
   "execution_count": null,
   "metadata": {},
   "outputs": [],
   "source": [
    "from sklearn.ensemble import RandomForestRegressor\n",
    "rf = RandomForestRegressor(n_estimators = 1000, random_state = 42)\n",
    "rf.fit(X_train, y_train)\n",
    "predictions = rf.predict(X_test)\n",
    "print(roc_auc_score(y_test, predictions))"
   ]
  },
  {
   "cell_type": "code",
   "execution_count": null,
   "metadata": {},
   "outputs": [],
   "source": [
    "from sklearn.neural_network import MLPClassifier\n",
    "clf = MLPClassifier(solver='lbfgs', alpha=1e-5,hidden_layer_sizes=(15,), random_state=1)\n",
    "clf.fit(X_train, y_train)                         \n",
    "MLPClassifier(activation='relu', alpha=1e-05, batch_size='auto',\n",
    "              beta_1=0.9, beta_2=0.999, early_stopping=False,\n",
    "              epsilon=1e-08, hidden_layer_sizes=(15,),\n",
    "              learning_rate='constant', learning_rate_init=0.001,\n",
    "              max_iter=200, momentum=0.9, n_iter_no_change=10,\n",
    "              nesterovs_momentum=True, power_t=0.5,  random_state=1,\n",
    "              shuffle=True, solver='lbfgs', tol=0.0001,\n",
    "              validation_fraction=0.1, verbose=False, warm_start=False)\n",
    "p = clf.predict(X_test)\n",
    "print(roc_auc_score(y_test, p))"
   ]
  },
  {
   "cell_type": "code",
   "execution_count": null,
   "metadata": {},
   "outputs": [],
   "source": [
    "from sklearn.neighbors import KNeighborsClassifier\n",
    "from sklearn.model_selection import GridSearchCV\n",
    "knn = KNeighborsClassifier()\n",
    "params_knn = {'n_neighbors': np.arange(1, 25)}\n",
    "knn_gs = GridSearchCV(knn, params_knn, cv=5)\n",
    "knn_gs.fit(X_train, y_train)\n",
    "knn_best = knn_gs.best_estimator_\n",
    "print(knn_gs.best_params_)"
   ]
  },
  {
   "cell_type": "code",
   "execution_count": null,
   "metadata": {},
   "outputs": [],
   "source": [
    "from sklearn.ensemble import RandomForestClassifier\n",
    "rf = RandomForestClassifier()\n",
    "params_rf = {'n_estimators': [50, 100, 200]}\n",
    "rf_gs = GridSearchCV(rf, params_rf, cv=5)\n",
    "rf_gs.fit(X_train, y_train)\n",
    "rf_best = rf_gs.best_estimator_\n",
    "print(rf_gs.best_params_)"
   ]
  },
  {
   "cell_type": "code",
   "execution_count": null,
   "metadata": {},
   "outputs": [],
   "source": [
    "print('knn: {}'.format(knn_best.score(X_test, y_test)))\n",
    "print('rf: {}'.format(rf_best.score(X_test, y_test)))\n",
    "print('log_reg: {}'.format(logreg.score(X_test, y_test)))"
   ]
  },
  {
   "cell_type": "code",
   "execution_count": null,
   "metadata": {},
   "outputs": [],
   "source": [
    "from sklearn.ensemble import VotingClassifier\n",
    "estimators=[('knn', knn_best), ('rf', rf_best), ('log_reg', logreg)]\n",
    "ensemble = VotingClassifier(estimators, voting='hard')\n",
    "ensemble.fit(X_train, y_train)\n",
    "ensemble.score(X_test, y_test)"
   ]
  },
  {
   "cell_type": "code",
   "execution_count": 2,
   "metadata": {},
   "outputs": [],
   "source": [
    "import pyreadr\n",
    "Traffic1 = pyreadr.read_r('all_feature_set_TRAFFIC_interval_1.RData') \n",
    "Traffic2 = pyreadr.read_r('all_feature_set_TRAFFIC_interval_2.RData')\n",
    "Traffic3 = pyreadr.read_r('all_feature_set_TRAFFIC_interval_3.RData')\n",
    "Traffic4 = pyreadr.read_r('all_feature_set_TRAFFIC_interval_4.RData')\n",
    "Traffic5 = pyreadr.read_r('all_feature_set_TRAFFIC_interval_5.RData')"
   ]
  },
  {
   "cell_type": "code",
   "execution_count": 3,
   "metadata": {},
   "outputs": [],
   "source": [
    "Traffic1 = Traffic1[\"all_feature_set\"]\n",
    "Traffic2 = Traffic2[\"all_feature_set\"]\n",
    "Traffic3 = Traffic3[\"all_feature_set\"]\n",
    "Traffic4 = Traffic4[\"all_feature_set\"]\n",
    "Traffic5 = Traffic5[\"all_feature_set\"]"
   ]
  },
  {
   "cell_type": "code",
   "execution_count": 4,
   "metadata": {},
   "outputs": [],
   "source": [
    "# With Dynamic Features\n",
    "feature_cols = ['seasonal_density','crime_density_30','crime_density_population_30','crime_density_7',\n",
    "                'crime_density_population_7','neighbourhood_crime_density_30','neighbouhood_crime_density_population_30',\n",
    "               'Neighbourhood_7_days_density','Neighbourhood_7_days_density_population','gender_ratio',\n",
    "               'ethenic_diversity','Hispanic_percentage','black_percentage','economic_diversity','median_income',\n",
    "               'Rented_house','median_age','Shop and Service_freq','Outdoor and Recreation_freq','Home_freq',\n",
    "                'Professional and Other Places_freq','Food_freq','Travel and Transport_freq','Arts and Entertainment_freq',\n",
    "                'College and University_freq','NightLife Spot_freq','total_density','location_entropy','similarity',\n",
    "                'Entropy','user_count','observation_freq','Visitor_ratio','area_popularity']\n",
    "\n",
    "#Without Dynamic Features\n",
    "WOfeature_cols = ['seasonal_density','crime_density_30','crime_density_population_30','crime_density_7',\n",
    "                'crime_density_population_7','neighbourhood_crime_density_30','neighbouhood_crime_density_population_30',\n",
    "               'Neighbourhood_7_days_density','Neighbourhood_7_days_density_population','gender_ratio',\n",
    "               'ethenic_diversity','Hispanic_percentage','black_percentage','economic_diversity','median_income',\n",
    "               'Rented_house','median_age','Shop and Service_freq','Outdoor and Recreation_freq','Home_freq',\n",
    "                'Professional and Other Places_freq','Food_freq','Travel and Transport_freq','Arts and Entertainment_freq',\n",
    "                'College and University_freq','NightLife Spot_freq','total_density','location_entropy']\n",
    "#Change Variable name and features everytime, thus reducing redundant code \n",
    "Traffic1[feature_cols] = np.nan_to_num(Traffic1[feature_cols])\n",
    "Traffic1[feature_cols] = sklearn.preprocessing.normalize(Traffic1[feature_cols], norm='l1',\n",
    "                                                         axis=1, copy=True, return_norm=False)"
   ]
  },
  {
   "cell_type": "code",
   "execution_count": 5,
   "metadata": {},
   "outputs": [],
   "source": [
    "from imblearn.under_sampling import RandomUnderSampler\n",
    "rus = RandomUnderSampler(random_state=0)\n",
    "X = Traffic1[feature_cols]\n",
    "y = Traffic1['response']\n",
    "X_resampled, y_resampled = rus.fit_resample(X, y)"
   ]
  },
  {
   "cell_type": "code",
   "execution_count": 6,
   "metadata": {},
   "outputs": [
    {
     "name": "stderr",
     "output_type": "stream",
     "text": [
      "C:\\Users\\noura\\Anaconda3\\lib\\site-packages\\sklearn\\linear_model\\logistic.py:432: FutureWarning: Default solver will be changed to 'lbfgs' in 0.22. Specify a solver to silence this warning.\n",
      "  FutureWarning)\n"
     ]
    },
    {
     "data": {
      "text/plain": [
       "0.6710526315789473"
      ]
     },
     "execution_count": 6,
     "metadata": {},
     "output_type": "execute_result"
    }
   ],
   "source": [
    "from sklearn.linear_model import LogisticRegression\n",
    "from sklearn.model_selection import train_test_split\n",
    "from sklearn import metrics\n",
    "\n",
    "\n",
    "X_train, X_test, y_train, y_test = train_test_split(X_resampled, y_resampled,test_size=0.50)\n",
    "\n",
    "\n",
    "logreg = LogisticRegression()\n",
    "\n",
    "\n",
    "logreg.fit(X_train, y_train)\n",
    "\n",
    "\n",
    "logreg.score(X_test, y_test)\n"
   ]
  },
  {
   "cell_type": "code",
   "execution_count": 7,
   "metadata": {},
   "outputs": [
    {
     "data": {
      "text/plain": [
       "0.6732026143790849"
      ]
     },
     "execution_count": 7,
     "metadata": {},
     "output_type": "execute_result"
    }
   ],
   "source": [
    "from sklearn.metrics import f1_score\n",
    "y_pred = logreg.predict(X_test)\n",
    "f1_score(y_test, y_pred)"
   ]
  },
  {
   "cell_type": "code",
   "execution_count": 15,
   "metadata": {},
   "outputs": [
    {
     "data": {
      "image/png": "[encoded data removed]",
      "text/plain": [
       "<Figure size 432x288 with 1 Axes>"
      ]
     },
     "metadata": {
      "needs_background": "light"
     },
     "output_type": "display_data"
    },
    {
     "name": "stdout",
     "output_type": "stream",
     "text": [
      "0.672175233138148\n"
     ]
    }
   ],
   "source": [
    "\n",
    "import matplotlib.pyplot as plt\n",
    "from sklearn.metrics import roc_auc_score\n",
    "fpr, tpr, _ = metrics.roc_curve(y_test,  y_pred)\n",
    "auc = metrics.roc_auc_score(y_test, y_pred)\n",
    "plt.plot(fpr,tpr,label=\"Traffic 9 - 12, auc=\"+str(auc))#Change label \n",
    "plt.legend(loc=4)\n",
    "plt.show()\n",
    "print(roc_auc_score(y_test, y_pred))"
   ]
  },
  {
   "cell_type": "code",
   "execution_count": 29,
   "metadata": {},
   "outputs": [
    {
     "name": "stdout",
     "output_type": "stream",
     "text": [
      "0.5992639099372158\n"
     ]
    },
    {
     "name": "stderr",
     "output_type": "stream",
     "text": [
      "C:\\Users\\noura\\Anaconda3\\lib\\site-packages\\sklearn\\svm\\base.py:929: ConvergenceWarning: Liblinear failed to converge, increase the number of iterations.\n",
      "  \"the number of iterations.\", ConvergenceWarning)\n"
     ]
    }
   ],
   "source": [
    "from sklearn.svm import SVC, LinearSVC\n",
    "\n",
    "linear_svc = LinearSVC()\n",
    "linear_svc.fit(X_train, y_train)\n",
    "\n",
    "Y_pred = linear_svc.predict(X_test)\n",
    "\n",
    "acc_linear_svc = linear_svc.score(X_train, y_train)\n",
    "\n",
    "print(roc_auc_score(y_test, Y_pred))"
   ]
  },
  {
   "cell_type": "code",
   "execution_count": 30,
   "metadata": {},
   "outputs": [
    {
     "name": "stdout",
     "output_type": "stream",
     "text": [
      "0.8638882875081186\n"
     ]
    }
   ],
   "source": [
    "from sklearn.ensemble import RandomForestRegressor\n",
    "\n",
    "rf = RandomForestRegressor(n_estimators = 1000, random_state = 42)\n",
    "\n",
    "rf.fit(X_train, y_train)\n",
    "\n",
    "predictions = rf.predict(X_test)\n",
    "\n",
    "print(roc_auc_score(y_test, predictions))"
   ]
  },
  {
   "cell_type": "code",
   "execution_count": 31,
   "metadata": {},
   "outputs": [
    {
     "name": "stdout",
     "output_type": "stream",
     "text": [
      "0.5033557046979866\n"
     ]
    }
   ],
   "source": [
    "from sklearn.neural_network import MLPClassifier\n",
    "clf = MLPClassifier(solver='lbfgs', alpha=1e-5,hidden_layer_sizes=(15,), random_state=1)\n",
    "clf.fit(X_train, y_train)                         \n",
    "MLPClassifier(activation='relu', alpha=1e-05, batch_size='auto',\n",
    "              beta_1=0.9, beta_2=0.999, early_stopping=False,\n",
    "              epsilon=1e-08, hidden_layer_sizes=(15,),\n",
    "              learning_rate='constant', learning_rate_init=0.001,\n",
    "              max_iter=200, momentum=0.9, n_iter_no_change=10,\n",
    "              nesterovs_momentum=True, power_t=0.5,  random_state=1,\n",
    "              shuffle=True, solver='lbfgs', tol=0.0001,\n",
    "              validation_fraction=0.1, verbose=False, warm_start=False)\n",
    "p = clf.predict(X_test)\n",
    "print(roc_auc_score(y_test, p))"
   ]
  },
  {
   "cell_type": "code",
   "execution_count": null,
   "metadata": {},
   "outputs": [],
   "source": [
    "from sklearn.neighbors import KNeighborsClassifier\n",
    "from sklearn.model_selection import GridSearchCV\n",
    "knn = KNeighborsClassifier()\n",
    "params_knn = {'n_neighbors': np.arange(1, 25)}\n",
    "knn_gs = GridSearchCV(knn, params_knn, cv=5)\n",
    "knn_gs.fit(X_train, y_train)\n",
    "knn_best = knn_gs.best_estimator_\n",
    "print(knn_gs.best_params_)"
   ]
  },
  {
   "cell_type": "code",
   "execution_count": null,
   "metadata": {},
   "outputs": [],
   "source": [
    "from sklearn.ensemble import RandomForestClassifier\n",
    "rf = RandomForestClassifier()\n",
    "params_rf = {'n_estimators': [50, 100, 200]}\n",
    "rf_gs = GridSearchCV(rf, params_rf, cv=5)\n",
    "rf_gs.fit(X_train, y_train)\n",
    "rf_best = rf_gs.best_estimator_\n",
    "print(rf_gs.best_params_)"
   ]
  },
  {
   "cell_type": "code",
   "execution_count": null,
   "metadata": {},
   "outputs": [],
   "source": [
    "print('knn: {}'.format(knn_best.score(X_test, y_test)))\n",
    "print('rf: {}'.format(rf_best.score(X_test, y_test)))\n",
    "print('log_reg: {}'.format(logreg.score(X_test, y_test)))"
   ]
  },
  {
   "cell_type": "code",
   "execution_count": null,
   "metadata": {},
   "outputs": [],
   "source": [
    "from sklearn.ensemble import VotingClassifier\n",
    "estimators=[('knn', knn_best), ('rf', rf_best), ('log_reg', logreg)]\n",
    "ensemble = VotingClassifier(estimators, voting='hard')\n",
    "ensemble.fit(X_train, y_train)\n",
    "ensemble.score(X_test, y_test)"
   ]
  },
  {
   "cell_type": "code",
   "execution_count": 4,
   "metadata": {},
   "outputs": [],
   "source": [
    "Burglary1 = pyreadr.read_r(r'C:\\Level 7\\ML\\Project\\New folder\\New folder\\all_feature_set_BURGLARY_interval_1.RData') \n",
    "Burglary2 = pyreadr.read_r(r'C:\\Level 7\\ML\\Project\\New folder\\New folder\\all_feature_set_BURGLARY_interval_2.RData')\n",
    "Burglary3 = pyreadr.read_r(r'C:\\Level 7\\ML\\Project\\New folder\\New folder\\all_feature_set_BURGLARY_interval_3.RData')\n",
    "Burglary4 = pyreadr.read_r(r'C:\\Level 7\\ML\\Project\\New folder\\New folder\\all_feature_set_BURGLARY_interval_4.RData')\n",
    "Burglary5 = pyreadr.read_r(r'C:\\Level 7\\ML\\Project\\New folder\\New folder\\all_feature_set_BURGLARY_interval_5.RData')\n"
   ]
  },
  {
   "cell_type": "code",
   "execution_count": 5,
   "metadata": {},
   "outputs": [],
   "source": [
    "Burglary1 = Burglary1[\"all_feature_set\"]\n",
    "Burglary2 = Burglary2[\"all_feature_set\"]\n",
    "Burglary3 = Burglary3[\"all_feature_set\"]\n",
    "Burglary4 = Burglary4[\"all_feature_set\"]\n",
    "Burglary5 = Burglary5[\"all_feature_set\"]"
   ]
  },
  {
   "cell_type": "code",
   "execution_count": 218,
   "metadata": {},
   "outputs": [],
   "source": [
    "import sklearn.preprocessing\n",
    "# With Dynamic Features\n",
    "feature_cols = ['seasonal_density','crime_density_30','crime_density_population_30','crime_density_7',\n",
    "                'crime_density_population_7','neighbourhood_crime_density_30','neighbouhood_crime_density_population_30',\n",
    "               'Neighbourhood_7_days_density','Neighbourhood_7_days_density_population','gender_ratio',\n",
    "               'ethenic_diversity','Hispanic_percentage','black_percentage','economic_diversity','median_income',\n",
    "               'Rented_house','median_age','Shop and Service_freq','Outdoor and Recreation_freq','Home_freq',\n",
    "                'Professional and Other Places_freq','Food_freq','Travel and Transport_freq','Arts and Entertainment_freq',\n",
    "                'College and University_freq','NightLife Spot_freq','total_density','location_entropy','similarity',\n",
    "                'Entropy','user_count','observation_freq','Visitor_ratio','area_popularity']\n",
    "\n",
    "#Without Dynamic Features\n",
    "WOfeature_cols = ['seasonal_density','crime_density_30','crime_density_population_30','crime_density_7',\n",
    "                'crime_density_population_7','neighbourhood_crime_density_30','neighbouhood_crime_density_population_30',\n",
    "               'Neighbourhood_7_days_density','Neighbourhood_7_days_density_population','gender_ratio',\n",
    "               'ethenic_diversity','Hispanic_percentage','black_percentage','economic_diversity','median_income',\n",
    "               'Rented_house','median_age','Shop and Service_freq','Outdoor and Recreation_freq','Home_freq',\n",
    "                'Professional and Other Places_freq','Food_freq','Travel and Transport_freq','Arts and Entertainment_freq',\n",
    "                'College and University_freq','NightLife Spot_freq','total_density','location_entropy']\n",
    "#Change DataFrame name and features everytime, thus reducing redundant code \n",
    "\n",
    "Burglary5[WOfeature_cols] = np.nan_to_num(Burglary5[WOfeature_cols])\n",
    "\n",
    "Burglary5[WOfeature_cols] = sklearn.preprocessing.normalize(Burglary5[WOfeature_cols], norm='l1',\n",
    "                                                         axis=1, copy=True, return_norm=False)"
   ]
  },
  {
   "cell_type": "code",
   "execution_count": 219,
   "metadata": {},
   "outputs": [],
   "source": [
    "from imblearn.under_sampling import RandomUnderSampler\n",
    "rus = RandomUnderSampler(random_state=0)\n",
    "X = Burglary5[WOfeature_cols]\n",
    "y = Burglary5['response']\n",
    "X_resampled, y_resampled = rus.fit_resample(X, y)"
   ]
  },
  {
   "cell_type": "code",
   "execution_count": 220,
   "metadata": {},
   "outputs": [
    {
     "name": "stderr",
     "output_type": "stream",
     "text": [
      "C:\\Users\\Ruba3\\Anaconda3\\lib\\site-packages\\sklearn\\linear_model\\logistic.py:432: FutureWarning: Default solver will be changed to 'lbfgs' in 0.22. Specify a solver to silence this warning.\n",
      "  FutureWarning)\n"
     ]
    },
    {
     "data": {
      "text/plain": [
       "0.4916874480465503"
      ]
     },
     "execution_count": 220,
     "metadata": {},
     "output_type": "execute_result"
    }
   ],
   "source": [
    "from sklearn.linear_model import LogisticRegression\n",
    "from sklearn.model_selection import train_test_split\n",
    "from sklearn import metrics\n",
    "\n",
    "X_train, X_test, y_train, y_test = train_test_split(X_resampled, y_resampled,test_size=0.50)\n",
    "\n",
    "\n",
    "logreg = LogisticRegression()\n",
    "\n",
    "\n",
    "logreg.fit(X_train, y_train)\n",
    "\n",
    "\n",
    "logreg.score(X_test, y_test)"
   ]
  },
  {
   "cell_type": "code",
   "execution_count": 221,
   "metadata": {},
   "outputs": [
    {
     "name": "stderr",
     "output_type": "stream",
     "text": [
      "C:\\Users\\Ruba3\\Anaconda3\\lib\\site-packages\\sklearn\\metrics\\classification.py:1437: UndefinedMetricWarning: F-score is ill-defined and being set to 0.0 due to no predicted samples.\n",
      "  'precision', 'predicted', average, warn_for)\n"
     ]
    },
    {
     "data": {
      "text/plain": [
       "0.0"
      ]
     },
     "execution_count": 221,
     "metadata": {},
     "output_type": "execute_result"
    }
   ],
   "source": [
    "from sklearn.metrics import f1_score\n",
    "y_pred = logreg.predict(X_test)\n",
    "f1_score(y_test, y_pred)"
   ]
  },
  {
   "cell_type": "code",
   "execution_count": 222,
   "metadata": {},
   "outputs": [
    {
     "data": {
      "image/png": "[encoded data removed]",
      "text/plain": [
       "<Figure size 432x288 with 1 Axes>"
      ]
     },
     "metadata": {
      "needs_background": "light"
     },
     "output_type": "display_data"
    },
    {
     "name": "stdout",
     "output_type": "stream",
     "text": [
      "0.5\n"
     ]
    }
   ],
   "source": [
    "import numpy as np\n",
    "from sklearn import metrics\n",
    "from sklearn.metrics import roc_auc_score\n",
    "import matplotlib.pyplot as plt\n",
    "fpr, tpr, _ = metrics.roc_curve(y_test,  y_pred)\n",
    "auc = metrics.roc_auc_score(y_test, y_pred)\n",
    "plt.plot(fpr,tpr,label=\"Traffic 9 - 12, auc=\"+str(auc))#Change label \n",
    "plt.legend(loc=4)\n",
    "plt.show()\n",
    "print(roc_auc_score(y_test, y_pred))"
   ]
  },
  {
   "cell_type": "code",
   "execution_count": 223,
   "metadata": {},
   "outputs": [
    {
     "name": "stdout",
     "output_type": "stream",
     "text": [
      "0.4987320371935757\n"
     ]
    }
   ],
   "source": [
    "from sklearn.svm import SVC, LinearSVC\n",
    "\n",
    "linear_svc = LinearSVC()\n",
    "linear_svc.fit(X_train, y_train)\n",
    "\n",
    "Y_pred = linear_svc.predict(X_test)\n",
    "\n",
    "acc_linear_svc = linear_svc.score(X_train, y_train)\n",
    "\n",
    "print(roc_auc_score(y_test, Y_pred))"
   ]
  },
  {
   "cell_type": "code",
   "execution_count": 224,
   "metadata": {},
   "outputs": [
    {
     "name": "stdout",
     "output_type": "stream",
     "text": [
      "0.6944486107012052\n"
     ]
    }
   ],
   "source": [
    "from sklearn.ensemble import RandomForestRegressor\n",
    "rf = RandomForestRegressor(n_estimators = 1000, random_state = 42)\n",
    "rf.fit(X_train, y_train)\n",
    "predictions = rf.predict(X_test)\n",
    "print(roc_auc_score(y_test, predictions))"
   ]
  },
  {
   "cell_type": "code",
   "execution_count": 225,
   "metadata": {},
   "outputs": [
    {
     "data": {
      "text/plain": [
       "0.6380913869793773"
      ]
     },
     "execution_count": 225,
     "metadata": {},
     "output_type": "execute_result"
    }
   ],
   "source": [
    "y_pred = rf.predict(X_test)\n",
    "f1_score(y_test, predictions.round())"
   ]
  },
  {
   "cell_type": "code",
   "execution_count": 227,
   "metadata": {},
   "outputs": [
    {
     "name": "stdout",
     "output_type": "stream",
     "text": [
      "0.558392296426135\n"
     ]
    }
   ],
   "source": [
    "from sklearn.neural_network import MLPClassifier\n",
    "clf = MLPClassifier(solver='lbfgs', alpha=1e-5,hidden_layer_sizes=(15,), random_state=1)\n",
    "clf.fit(X_train, y_train)                         \n",
    "MLPClassifier(activation='relu', alpha=1e-05, batch_size='auto',\n",
    "              beta_1=0.9, beta_2=0.999, early_stopping=False,\n",
    "              epsilon=1e-08, hidden_layer_sizes=(15,),\n",
    "              learning_rate='constant', learning_rate_init=0.001,\n",
    "              max_iter=200, momentum=0.9, n_iter_no_change=10,\n",
    "              nesterovs_momentum=True, power_t=0.5,  random_state=1,\n",
    "              shuffle=True, solver='lbfgs', tol=0.0001,\n",
    "              validation_fraction=0.1, verbose=False, warm_start=False)\n",
    "p = clf.predict(X_test)\n",
    "print(roc_auc_score(y_test, p))"
   ]
  },
  {
   "cell_type": "code",
   "execution_count": 228,
   "metadata": {},
   "outputs": [
    {
     "name": "stdout",
     "output_type": "stream",
     "text": [
      "{'n_neighbors': 21}\n"
     ]
    }
   ],
   "source": [
    "from sklearn.neighbors import KNeighborsClassifier\n",
    "from sklearn.model_selection import GridSearchCV\n",
    "knn = KNeighborsClassifier()\n",
    "params_knn = {'n_neighbors': np.arange(1, 25)}\n",
    "knn_gs = GridSearchCV(knn, params_knn, cv=5)\n",
    "knn_gs.fit(X_train, y_train)\n",
    "knn_best = knn_gs.best_estimator_\n",
    "print(knn_gs.best_params_)"
   ]
  },
  {
   "cell_type": "code",
   "execution_count": 229,
   "metadata": {},
   "outputs": [
    {
     "name": "stdout",
     "output_type": "stream",
     "text": [
      "{'n_estimators': 200}\n"
     ]
    }
   ],
   "source": [
    "from sklearn.ensemble import RandomForestClassifier\n",
    "rf = RandomForestClassifier()\n",
    "params_rf = {'n_estimators': [50, 100, 200]}\n",
    "rf_gs = GridSearchCV(rf, params_rf, cv=5)\n",
    "rf_gs.fit(X_train, y_train)\n",
    "rf_best = rf_gs.best_estimator_\n",
    "print(rf_gs.best_params_)"
   ]
  },
  {
   "cell_type": "code",
   "execution_count": 230,
   "metadata": {},
   "outputs": [
    {
     "name": "stdout",
     "output_type": "stream",
     "text": [
      "knn: 0.5261845386533666\n",
      "rf: 0.6296758104738155\n",
      "log_reg: 0.4916874480465503\n"
     ]
    }
   ],
   "source": [
    "print('knn: {}'.format(knn_best.score(X_test, y_test)))\n",
    "print('rf: {}'.format(rf_best.score(X_test, y_test)))\n",
    "print('log_reg: {}'.format(logreg.score(X_test, y_test)))"
   ]
  },
  {
   "cell_type": "code",
   "execution_count": 231,
   "metadata": {},
   "outputs": [
    {
     "name": "stderr",
     "output_type": "stream",
     "text": [
      "C:\\Users\\Ruba3\\Anaconda3\\lib\\site-packages\\sklearn\\linear_model\\logistic.py:432: FutureWarning: Default solver will be changed to 'lbfgs' in 0.22. Specify a solver to silence this warning.\n",
      "  FutureWarning)\n"
     ]
    },
    {
     "name": "stdout",
     "output_type": "stream",
     "text": [
      "0.5707439613660131\n"
     ]
    }
   ],
   "source": [
    "from sklearn.ensemble import VotingClassifier\n",
    "estimators=[('knn', knn_best), ('rf', rf_best), ('log_reg', logreg)]\n",
    "ensemble = VotingClassifier(estimators, voting='hard')\n",
    "ensemble.fit(X_train, y_train)\n",
    "ensemble.score(X_test, y_test)\n",
    "p = ensemble.predict(X_test)\n",
    "print(roc_auc_score(y_test, p))"
   ]
  },
  {
   "cell_type": "code",
   "execution_count": 53,
   "metadata": {},
   "outputs": [],
   "source": [
    "\n",
    "Drug1 = pyreadr.read_r(r'C:\\Level 7\\ML\\Project\\New folder\\New folder\\all_feature_set_DRUG_interval_1.RData') \n",
    "Drug2 = pyreadr.read_r(r'C:\\Level 7\\ML\\Project\\New folder\\New folder\\all_feature_set_DRUG_interval_2.RData')\n",
    "Drug3 = pyreadr.read_r(r'C:\\Level 7\\ML\\Project\\New folder\\New folder\\all_feature_set_DRUG_interval_3.RData')\n",
    "Drug4 = pyreadr.read_r(r'C:\\Level 7\\ML\\Project\\New folder\\New folder\\all_feature_set_DRUG_interval_4.RData')\n",
    "Drug5 = pyreadr.read_r(r'C:\\Level 7\\ML\\Project\\New folder\\New folder\\all_feature_set_DRUG_interval_5.RData')"
   ]
  },
  {
   "cell_type": "code",
   "execution_count": 54,
   "metadata": {},
   "outputs": [],
   "source": [
    "Drug1 = Drug1[\"all_feature_set\"]\n",
    "Drug2 = Drug2[\"all_feature_set\"]\n",
    "Drug3 = Drug3[\"all_feature_set\"]\n",
    "Drug4 = Drug4[\"all_feature_set\"]\n",
    "Drug5 = Drug5[\"all_feature_set\"]"
   ]
  },
  {
   "cell_type": "code",
   "execution_count": 55,
   "metadata": {},
   "outputs": [
    {
     "name": "stderr",
     "output_type": "stream",
     "text": [
      "C:\\Users\\Ruba3\\Anaconda3\\lib\\site-packages\\numpy\\core\\fromnumeric.py:83: RuntimeWarning: overflow encountered in reduce\n",
      "  return ufunc.reduce(obj, axis, dtype, out, **passkwargs)\n",
      "C:\\Users\\Ruba3\\Anaconda3\\lib\\site-packages\\numpy\\core\\_methods.py:36: RuntimeWarning: overflow encountered in reduce\n",
      "  return umr_sum(a, axis, dtype, out, keepdims, initial)\n"
     ]
    }
   ],
   "source": [
    "import sklearn.preprocessing\n",
    "# With Dynamic Features\n",
    "feature_cols = ['seasonal_density','crime_density_30','crime_density_population_30','crime_density_7',\n",
    "                'crime_density_population_7','neighbourhood_crime_density_30','neighbouhood_crime_density_population_30',\n",
    "               'Neighbourhood_7_days_density','Neighbourhood_7_days_density_population','gender_ratio',\n",
    "               'ethenic_diversity','Hispanic_percentage','black_percentage','economic_diversity','median_income',\n",
    "               'Rented_house','median_age','Shop and Service_freq','Outdoor and Recreation_freq','Home_freq',\n",
    "                'Professional and Other Places_freq','Food_freq','Travel and Transport_freq','Arts and Entertainment_freq',\n",
    "                'College and University_freq','NightLife Spot_freq','total_density','location_entropy','similarity',\n",
    "                'Entropy','user_count','observation_freq','Visitor_ratio','area_popularity']\n",
    "\n",
    "#Without Dynamic Features\n",
    "WOfeature_cols = ['seasonal_density','crime_density_30','crime_density_population_30','crime_density_7',\n",
    "                'crime_density_population_7','neighbourhood_crime_density_30','neighbouhood_crime_density_population_30',\n",
    "               'Neighbourhood_7_days_density','Neighbourhood_7_days_density_population','gender_ratio',\n",
    "               'ethenic_diversity','Hispanic_percentage','black_percentage','economic_diversity','median_income',\n",
    "               'Rented_house','median_age','Shop and Service_freq','Outdoor and Recreation_freq','Home_freq',\n",
    "                'Professional and Other Places_freq','Food_freq','Travel and Transport_freq','Arts and Entertainment_freq',\n",
    "                'College and University_freq','NightLife Spot_freq','total_density','location_entropy']\n",
    "#Change DataFrame name and features everytime, thus reducing redundant code \n",
    "Drug1[feature_cols] = np.nan_to_num(Drug1[feature_cols])\n",
    "Drug1[feature_cols] = sklearn.preprocessing.normalize(Drug1[feature_cols], norm='l1',\n",
    "                                                      axis=1, copy=True, return_norm=False)"
   ]
  },
  {
   "cell_type": "code",
   "execution_count": 56,
   "metadata": {},
   "outputs": [],
   "source": [
    "from imblearn.under_sampling import RandomUnderSampler\n",
    "from sklearn.model_selection import train_test_split\n",
    "rus = RandomUnderSampler(random_state=0)\n",
    "X = Drug1[feature_cols]\n",
    "y = Drug1['response']\n",
    "X_resampled, y_resampled = rus.fit_resample(X, y)"
   ]
  },
  {
   "cell_type": "code",
   "execution_count": 57,
   "metadata": {},
   "outputs": [
    {
     "name": "stdout",
     "output_type": "stream",
     "text": [
      "0.5\n"
     ]
    },
    {
     "name": "stderr",
     "output_type": "stream",
     "text": [
      "C:\\Users\\Ruba3\\Anaconda3\\lib\\site-packages\\sklearn\\linear_model\\logistic.py:432: FutureWarning: Default solver will be changed to 'lbfgs' in 0.22. Specify a solver to silence this warning.\n",
      "  FutureWarning)\n"
     ]
    }
   ],
   "source": [
    "from sklearn.linear_model import LogisticRegression\n",
    "from sklearn.model_selection import train_test_split\n",
    "from sklearn import metrics\n",
    "from sklearn.metrics import roc_auc_score\n",
    "\n",
    "\n",
    "X_train, X_test, y_train, y_test = train_test_split(X_resampled, y_resampled,test_size=0.50)\n",
    "\n",
    "\n",
    "logreg = LogisticRegression()\n",
    "\n",
    "\n",
    "logreg.fit(X_train, y_train)\n",
    "\n",
    "\n",
    "logreg.score(X_test, y_test)\n",
    "\n",
    "Y_pred = logreg.predict(X_test)\n",
    "print(roc_auc_score(y_test, Y_pred))"
   ]
  },
  {
   "cell_type": "code",
   "execution_count": 61,
   "metadata": {},
   "outputs": [
    {
     "data": {
      "image/png": "[encoded data removed]",
      "text/plain": [
       "<Figure size 432x288 with 1 Axes>"
      ]
     },
     "metadata": {
      "needs_background": "light"
     },
     "output_type": "display_data"
    },
    {
     "name": "stdout",
     "output_type": "stream",
     "text": [
      "0.5\n"
     ]
    }
   ],
   "source": [
    "import numpy as np\n",
    "from sklearn import metrics\n",
    "from sklearn.metrics import roc_auc_score\n",
    "import matplotlib.pyplot as plt\n",
    "fpr, tpr, _ = metrics.roc_curve(y_test,  Y_pred)\n",
    "auc = metrics.roc_auc_score(y_test, Y_pred)\n",
    "plt.plot(fpr,tpr,label=\"Traffic 9 - 12, auc=\"+str(auc))#Change label \n",
    "plt.legend(loc=4)\n",
    "plt.show()\n",
    "print(roc_auc_score(y_test, Y_pred))"
   ]
  },
  {
   "cell_type": "code",
   "execution_count": 38,
   "metadata": {},
   "outputs": [
    {
     "name": "stdout",
     "output_type": "stream",
     "text": [
      "0.551038978227781\n"
     ]
    }
   ],
   "source": [
    "from sklearn.svm import SVC, LinearSVC\n",
    "\n",
    "linear_svc = LinearSVC()\n",
    "linear_svc.fit(X_train, y_train)\n",
    "\n",
    "Y_pred = linear_svc.predict(X_test)\n",
    "\n",
    "acc_linear_svc = linear_svc.score(X_train, y_train)\n",
    "\n",
    "print(roc_auc_score(y_test, Y_pred))"
   ]
  },
  {
   "cell_type": "code",
   "execution_count": 39,
   "metadata": {},
   "outputs": [
    {
     "name": "stdout",
     "output_type": "stream",
     "text": [
      "0.8545540776035117\n"
     ]
    }
   ],
   "source": [
    "from sklearn.ensemble import RandomForestRegressor\n",
    "from sklearn.metrics import f1_score\n",
    "rf = RandomForestRegressor(n_estimators = 1000, random_state = 42)\n",
    "rf.fit(X_train, y_train)\n",
    "predictions = rf.predict(X_test)\n",
    "auc = roc_auc_score(y_test, predictions)\n",
    "print(roc_auc_score(y_test, predictions))"
   ]
  },
  {
   "cell_type": "code",
   "execution_count": 322,
   "metadata": {},
   "outputs": [
    {
     "data": {
      "text/plain": [
       "0.740875912408759"
      ]
     },
     "execution_count": 322,
     "metadata": {},
     "output_type": "execute_result"
    }
   ],
   "source": [
    "y_pred = rf.predict(X_test)\n",
    "f1_score(y_test, y_pred.round())"
   ]
  },
  {
   "cell_type": "code",
   "execution_count": 324,
   "metadata": {},
   "outputs": [
    {
     "name": "stdout",
     "output_type": "stream",
     "text": [
      "0.6616503211324224\n"
     ]
    }
   ],
   "source": [
    "from sklearn.neural_network import MLPClassifier\n",
    "clf = MLPClassifier(solver='lbfgs', alpha=1e-5,hidden_layer_sizes=(15,), random_state=1)\n",
    "clf.fit(X_train, y_train)                         \n",
    "MLPClassifier(activation='relu', alpha=1e-05, batch_size='auto',\n",
    "              beta_1=0.9, beta_2=0.999, early_stopping=False,\n",
    "              epsilon=1e-08, hidden_layer_sizes=(15,),\n",
    "              learning_rate='constant', learning_rate_init=0.001,\n",
    "              max_iter=200, momentum=0.9, n_iter_no_change=10,\n",
    "              nesterovs_momentum=True, power_t=0.5,  random_state=1,\n",
    "              shuffle=True, solver='lbfgs', tol=0.0001,\n",
    "              validation_fraction=0.1, verbose=False, warm_start=False)\n",
    "p = clf.predict(X_test)\n",
    "print(roc_auc_score(y_test, p))"
   ]
  },
  {
   "cell_type": "code",
   "execution_count": 325,
   "metadata": {},
   "outputs": [
    {
     "name": "stdout",
     "output_type": "stream",
     "text": [
      "{'n_neighbors': 7}\n"
     ]
    }
   ],
   "source": [
    "from sklearn.neighbors import KNeighborsClassifier\n",
    "from sklearn.model_selection import GridSearchCV\n",
    "knn = KNeighborsClassifier()\n",
    "params_knn = {'n_neighbors': np.arange(1, 25)}\n",
    "knn_gs = GridSearchCV(knn, params_knn, cv=5)\n",
    "knn_gs.fit(X_train, y_train)\n",
    "knn_best = knn_gs.best_estimator_\n",
    "print(knn_gs.best_params_)"
   ]
  },
  {
   "cell_type": "code",
   "execution_count": 326,
   "metadata": {},
   "outputs": [
    {
     "name": "stdout",
     "output_type": "stream",
     "text": [
      "{'n_estimators': 100}\n"
     ]
    }
   ],
   "source": [
    "from sklearn.ensemble import RandomForestClassifier\n",
    "rf = RandomForestClassifier()\n",
    "params_rf = {'n_estimators': [50, 100, 200]}\n",
    "rf_gs = GridSearchCV(rf, params_rf, cv=5)\n",
    "rf_gs.fit(X_train, y_train)\n",
    "rf_best = rf_gs.best_estimator_\n",
    "print(rf_gs.best_params_)"
   ]
  },
  {
   "cell_type": "code",
   "execution_count": 327,
   "metadata": {},
   "outputs": [
    {
     "name": "stdout",
     "output_type": "stream",
     "text": [
      "knn: 0.7274155538098979\n",
      "rf: 0.738675045823514\n",
      "log_reg: 0.4956794972505892\n"
     ]
    }
   ],
   "source": [
    "print('knn: {}'.format(knn_best.score(X_test, y_test)))\n",
    "print('rf: {}'.format(rf_best.score(X_test, y_test)))\n",
    "print('log_reg: {}'.format(logreg.score(X_test, y_test)))"
   ]
  },
  {
   "cell_type": "code",
   "execution_count": 328,
   "metadata": {},
   "outputs": [
    {
     "name": "stderr",
     "output_type": "stream",
     "text": [
      "C:\\Users\\Ruba3\\Anaconda3\\lib\\site-packages\\sklearn\\linear_model\\logistic.py:432: FutureWarning: Default solver will be changed to 'lbfgs' in 0.22. Specify a solver to silence this warning.\n",
      "  FutureWarning)\n"
     ]
    },
    {
     "name": "stdout",
     "output_type": "stream",
     "text": [
      "0.7374638218598252\n"
     ]
    }
   ],
   "source": [
    "from sklearn.ensemble import VotingClassifier\n",
    "estimators=[('knn', knn_best), ('rf', rf_best), ('log_reg', logreg)]\n",
    "ensemble = VotingClassifier(estimators, voting='hard')\n",
    "ensemble.fit(X_train, y_train)\n",
    "ensemble.score(X_test, y_test)\n",
    "p = ensemble.predict(X_test)\n",
    "print(roc_auc_score(y_test, p))"
   ]
  },
  {
   "cell_type": "code",
   "execution_count": 102,
   "metadata": {},
   "outputs": [],
   "source": [
    "Theft1 = pyreadr.read_r(r'C:\\Level 7\\ML\\Project\\New folder\\New folder\\all_feature_set_LARCENY_interval_3.RData')# 15 - 18\n",
    "Theft2 = pyreadr.read_r(r'C:\\Level 7\\ML\\Project\\New folder\\New folder\\all_feature_set_LARCENY_interval_5.RData')# 21 - 24 "
   ]
  },
  {
   "cell_type": "code",
   "execution_count": 103,
   "metadata": {},
   "outputs": [],
   "source": [
    "Theft1 = Theft1[\"all_feature_set\"]\n",
    "Theft2 = Theft2[\"all_feature_set\"]"
   ]
  },
  {
   "cell_type": "code",
   "execution_count": 118,
   "metadata": {},
   "outputs": [
    {
     "name": "stderr",
     "output_type": "stream",
     "text": [
      "C:\\Users\\Ruba3\\Anaconda3\\lib\\site-packages\\numpy\\core\\fromnumeric.py:83: RuntimeWarning: overflow encountered in reduce\n",
      "  return ufunc.reduce(obj, axis, dtype, out, **passkwargs)\n",
      "C:\\Users\\Ruba3\\Anaconda3\\lib\\site-packages\\numpy\\core\\_methods.py:36: RuntimeWarning: overflow encountered in reduce\n",
      "  return umr_sum(a, axis, dtype, out, keepdims, initial)\n"
     ]
    }
   ],
   "source": [
    "feature_cols = ['seasonal_density','crime_density_30','crime_density_population_30','crime_density_7',\n",
    "                'crime_density_population_7','neighbourhood_crime_density_30','neighbouhood_crime_density_population_30',\n",
    "               'Neighbourhood_7_days_density','Neighbourhood_7_days_density_population','gender_ratio',\n",
    "               'ethenic_diversity','Hispanic_percentage','black_percentage','economic_diversity','median_income',\n",
    "               'Rented_house','median_age','Shop and Service_freq','Outdoor and Recreation_freq','Home_freq',\n",
    "                'Professional and Other Places_freq','Food_freq','Travel and Transport_freq','Arts and Entertainment_freq',\n",
    "                'College and University_freq','NightLife Spot_freq','total_density','location_entropy','similarity',\n",
    "                'Entropy','user_count','observation_freq','Visitor_ratio','area_popularity']\n",
    "\n",
    "Theft2[feature_cols] = np.nan_to_num(Theft2[feature_cols])\n",
    "Theft2[feature_cols] = sklearn.preprocessing.normalize(Theft2[feature_cols], norm='l1',\n",
    "                                                      axis=1, copy=True, return_norm=False)"
   ]
  },
  {
   "cell_type": "code",
   "execution_count": 119,
   "metadata": {},
   "outputs": [],
   "source": [
    "from imblearn.under_sampling import RandomUnderSampler\n",
    "rus = RandomUnderSampler(random_state=0)\n",
    "X = Theft2[feature_cols]\n",
    "y = Theft2['response']\n",
    "X_resampled, y_resampled = rus.fit_resample(X, y)"
   ]
  },
  {
   "cell_type": "code",
   "execution_count": 120,
   "metadata": {},
   "outputs": [],
   "source": [
    "#normalize all the features between 0 and 1\n",
    "from sklearn.preprocessing import MinMaxScaler\n",
    "min_max_scaler = MinMaxScaler()\n",
    "minmax = min_max_scaler.fit_transform(Theft1[feature_cols])"
   ]
  },
  {
   "cell_type": "code",
   "execution_count": 121,
   "metadata": {},
   "outputs": [
    {
     "name": "stderr",
     "output_type": "stream",
     "text": [
      "C:\\Users\\Ruba3\\Anaconda3\\lib\\site-packages\\sklearn\\linear_model\\logistic.py:432: FutureWarning: Default solver will be changed to 'lbfgs' in 0.22. Specify a solver to silence this warning.\n",
      "  FutureWarning)\n"
     ]
    },
    {
     "name": "stdout",
     "output_type": "stream",
     "text": [
      "{'seasonal_density': 0.05167124411452302, 'crime_density_30': 1.1227107604277722, 'crime_density_population_30': -0.5041158654695703, 'crime_density_7': 0.2713668868741348, 'crime_density_population_7': 0.0015286558252941887, 'neighbourhood_crime_density_30': 0.40178717538294595, 'neighbouhood_crime_density_population_30': 0.10187746953061771, 'Neighbourhood_7_days_density': 0.07806829362675537, 'Neighbourhood_7_days_density_population': 0.10186966614691247, 'gender_ratio': -0.2823941007689177, 'ethenic_diversity': -0.023092686083772945, 'Hispanic_percentage': -0.10884582126567031, 'black_percentage': -0.7058021277386282, 'economic_diversity': -0.008398868246472293, 'median_income': -0.1404237506519068, 'Rented_house': 0.6428748318928533, 'median_age': -0.5776964809137369, 'Shop and Service_freq': -0.009703705983913758, 'Outdoor and Recreation_freq': 0.0024773119040194217, 'Home_freq': 0.0001994312431635243, 'Professional and Other Places_freq': -0.03184529506525487, 'Food_freq': -0.05335473326664801, 'Travel and Transport_freq': -0.32145133894880196, 'Arts and Entertainment_freq': -0.004252526123289287, 'College and University_freq': -0.0023838264735889176, 'NightLife Spot_freq': -0.011963918252934707, 'total_density': 2.2237260024322483, 'location_entropy': -0.5121387969278004, 'similarity': -0.2033791952087613, 'Entropy': -0.24170472219342784, 'user_count': -0.31902442851245005, 'observation_freq': -0.31824533691288237, 'Visitor_ratio': -0.3444748756810234, 'area_popularity': -0.13666428507731}\n"
     ]
    }
   ],
   "source": [
    "#find correlation with LR model between the most important 12 features\n",
    "from sklearn.linear_model import LogisticRegression\n",
    "from sklearn.model_selection import train_test_split\n",
    "from sklearn import metrics\n",
    "from sklearn.metrics import roc_auc_score\n",
    "\n",
    "\n",
    "X_train, X_test, y_train, y_test = train_test_split(X_resampled, y_resampled,test_size=0.50)\n",
    "\n",
    "\n",
    "logreg = LogisticRegression()\n",
    "\n",
    "\n",
    "logreg.fit(X_train, y_train)\n",
    "\n",
    "\n",
    "#print(logreg.coef_)\n",
    "\n",
    "coef_dict = {}\n",
    "for coef, feat in zip(logreg.coef_[0,:],feature_cols):\n",
    "    coef_dict[feat] = coef\n",
    "    \n",
    "print(coef_dict)"
   ]
  },
  {
   "cell_type": "code",
   "execution_count": null,
   "metadata": {},
   "outputs": [],
   "source": []
  },
  {
   "cell_type": "code",
   "execution_count": null,
   "metadata": {},
   "outputs": [],
   "source": []
  }
 ],
 "metadata": {
  "kernelspec": {
   "display_name": "Python 3",
   "language": "python",
   "name": "python3"
  },
  "language_info": {
   "codemirror_mode": {
    "name": "ipython",
    "version": 3
   },
   "file_extension": ".py",
   "mimetype": "text/x-python",
   "name": "python",
   "nbconvert_exporter": "python",
   "pygments_lexer": "ipython3",
   "version": "3.7.1"
  }
 },
 "nbformat": 4,
 "nbformat_minor": 2
}
